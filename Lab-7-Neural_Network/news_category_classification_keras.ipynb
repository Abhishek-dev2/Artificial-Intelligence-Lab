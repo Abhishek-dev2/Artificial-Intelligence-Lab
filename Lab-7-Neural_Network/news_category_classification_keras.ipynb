{
 "cells": [
  {
   "cell_type": "code",
   "execution_count": 1,
   "metadata": {},
   "outputs": [
    {
     "name": "stderr",
     "output_type": "stream",
     "text": [
      "/Users/abhishekagrawal/anaconda3/lib/python3.6/site-packages/h5py/__init__.py:34: FutureWarning: Conversion of the second argument of issubdtype from `float` to `np.floating` is deprecated. In future, it will be treated as `np.float64 == np.dtype(float).type`.\n",
      "  from ._conv import register_converters as _register_converters\n",
      "Using TensorFlow backend.\n"
     ]
    }
   ],
   "source": [
    "# for generating the feature vector\n",
    "import json\n",
    "from nltk import ngrams\n",
    "import nltk\n",
    "from collections import Counter\n",
    "\n",
    "# for NN using Keras\n",
    "import numpy as np\n",
    "from keras.models import Sequential\n",
    "from keras.layers.core import Dense\n",
    "from sklearn.model_selection import train_test_split\n",
    "from sklearn.metrics import accuracy_score"
   ]
  },
  {
   "cell_type": "code",
   "execution_count": 2,
   "metadata": {
    "collapsed": true
   },
   "outputs": [],
   "source": [
    "def extract_headline_category(category_list):\n",
    "    headline_category = []\n",
    "    try:\n",
    "        input_file = open('./News_Category_Dataset.json')\n",
    "        input_data = input_file.readlines()\n",
    "        input_file.close()\n",
    "        for json_object in input_data:\n",
    "            data = json.loads(json_object)\n",
    "            category = data['category'].upper()\n",
    "            if category in category_list:\n",
    "                headline_category.append((data['headline'], data['category']))\n",
    "        return headline_category\n",
    "    except IOError:\n",
    "        print(\"ERROR : IO ERROR occurred while opening file\")\n",
    "        exit(0)"
   ]
  },
  {
   "cell_type": "code",
   "execution_count": 3,
   "metadata": {
    "collapsed": true
   },
   "outputs": [],
   "source": [
    "category_list = ['Business', 'Comedy','Sports', 'Crime', 'Religion']\n",
    "category_list = [i.upper() for i in category_list]\n",
    "headlines_and_category = extract_headline_category(category_list)"
   ]
  },
  {
   "cell_type": "code",
   "execution_count": 4,
   "metadata": {
    "collapsed": true
   },
   "outputs": [],
   "source": [
    "def get_n_grams(dataset:'headline, category', n:'n gram value', k:'return top k n-grams'):\n",
    "    n_grams_list=[]\n",
    "    for headline, category in dataset:\n",
    "        tokenize = nltk.word_tokenize(headline)\n",
    "        n_gram = nltk.ngrams(tokenize, n)\n",
    "        n_grams_list.extend(n_gram)\n",
    "    print(len(n_grams_list))\n",
    "    top_k = Counter(n_grams_list).most_common(k)\n",
    "    most_frequent=[i[0] for i in top_k]\n",
    "    return most_frequent"
   ]
  },
  {
   "cell_type": "code",
   "execution_count": 5,
   "metadata": {},
   "outputs": [
    {
     "name": "stdout",
     "output_type": "stream",
     "text": [
      "187445\n"
     ]
    },
    {
     "name": "stderr",
     "output_type": "stream",
     "text": [
      "/Users/abhishekagrawal/anaconda3/lib/python3.6/site-packages/ipykernel_launcher.py:6: DeprecationWarning: generator 'ngrams' raised StopIteration\n",
      "  \n"
     ]
    },
    {
     "name": "stdout",
     "output_type": "stream",
     "text": [
      "169606\n",
      "151792\n"
     ]
    }
   ],
   "source": [
    "unigrams_dict = get_n_grams(headlines_and_category, 1, 500)\n",
    "bigrams_dict = get_n_grams(headlines_and_category, 2, 300)\n",
    "trigrams_dict = get_n_grams(headlines_and_category, 3, 200)"
   ]
  },
  {
   "cell_type": "code",
   "execution_count": 6,
   "metadata": {
    "collapsed": true
   },
   "outputs": [],
   "source": [
    "pos_list = list({'CD', 'CC', 'RP', 'NNPS', 'IN', ',', '$', 'FW', 'RBR', 'JJ', \"''\", ')', 'VBD', 'VBP', 'POS', ':', 'NNS', '#', 'PRP', '(', 'VBN', 'PDT', 'JJS', 'VBG', 'PRP$', 'RBS', 'LS', '.', 'EX', 'NN', '``', 'DT', 'RB', 'WDT', 'VB', 'UH', 'TO', 'JJR', 'VBZ', 'MD', 'NNP', 'WP', 'WRB'})"
   ]
  },
  {
   "cell_type": "code",
   "execution_count": 7,
   "metadata": {
    "collapsed": true
   },
   "outputs": [],
   "source": [
    "def generate_features(dataset, unigrams_dict, bigrams_dict, trigrams_dict, pos_list, category_list):\n",
    "    X = []\n",
    "    y = []\n",
    "    for headline, category in dataset:\n",
    "        text = nltk.word_tokenize(headline)\n",
    "        unigrams = nltk.ngrams(text, 1)\n",
    "        bigrams = nltk.ngrams(text, 2)\n",
    "        trigrams = nltk.ngrams(text, 3)\n",
    "#         list_of_ngrams_dict = [unigrams_dict]\n",
    "#         list_of_ngrams_sentences = [unigrams]\n",
    "        list_of_ngrams_dict = [unigrams_dict, bigrams_dict, trigrams_dict]\n",
    "        list_of_ngrams_sentences = [unigrams, bigrams, trigrams]\n",
    "        temp_sentence = []\n",
    "        for i, ngram in enumerate(list_of_ngrams_dict):\n",
    "            temp_ngram = [0]*len(ngram)\n",
    "            for word in list_of_ngrams_sentences[i]:\n",
    "                if word in ngram:\n",
    "                    temp_ngram[ngram.index(word)]+=1\n",
    "            temp_sentence.extend(temp_ngram)\n",
    "        \n",
    "    \n",
    "#         temp_pos = [0]*len(pos_list)\n",
    "#         for word, tag in nltk.pos_tag(text):\n",
    "#             temp_pos[pos_list.index(tag)]+=1\n",
    "#         temp_sentence.extend(temp_pos)\n",
    "        X.append(temp_sentence)\n",
    "        y.append(category_list.index(category))\n",
    "    return (X,y)"
   ]
  },
  {
   "cell_type": "code",
   "execution_count": 8,
   "metadata": {},
   "outputs": [
    {
     "name": "stderr",
     "output_type": "stream",
     "text": [
      "/Users/abhishekagrawal/anaconda3/lib/python3.6/site-packages/ipykernel_launcher.py:16: DeprecationWarning: generator 'ngrams' raised StopIteration\n",
      "  app.launch_new_instance()\n"
     ]
    }
   ],
   "source": [
    "X, y = generate_features(headlines_and_category, unigrams_dict, bigrams_dict, trigrams_dict, pos_list, category_list)"
   ]
  },
  {
   "cell_type": "code",
   "execution_count": 9,
   "metadata": {
    "collapsed": true
   },
   "outputs": [],
   "source": [
    "y_temp = []\n",
    "for i in y:\n",
    "    temp = [0, 0, 0, 0, 0]\n",
    "    temp[i] = 1\n",
    "    y_temp.append(temp)\n",
    "y = y_temp\n",
    "\n",
    "X_train, X_test, y_train, y_test = train_test_split(X, y, test_size=0.20)\n",
    "\n",
    "in_features = len(X_train[0])\n",
    "out_features = len(category_list)"
   ]
  },
  {
   "cell_type": "code",
   "execution_count": 10,
   "metadata": {},
   "outputs": [
    {
     "name": "stdout",
     "output_type": "stream",
     "text": [
      "Epoch 1/50\n",
      "14272/14272 [==============================] - 2s 109us/step - loss: 0.1044 - acc: 0.6003\n",
      "Epoch 2/50\n",
      "14272/14272 [==============================] - 1s 85us/step - loss: 0.0719 - acc: 0.7340\n",
      "Epoch 3/50\n",
      "14272/14272 [==============================] - 1s 89us/step - loss: 0.0664 - acc: 0.7549\n",
      "Epoch 4/50\n",
      "14272/14272 [==============================] - 1s 94us/step - loss: 0.0630 - acc: 0.7705\n",
      "Epoch 5/50\n",
      "14272/14272 [==============================] - 2s 135us/step - loss: 0.0598 - acc: 0.7848\n",
      "Epoch 6/50\n",
      "14272/14272 [==============================] - 2s 106us/step - loss: 0.0571 - acc: 0.7958\n",
      "Epoch 7/50\n",
      "14272/14272 [==============================] - 2s 109us/step - loss: 0.0539 - acc: 0.8103\n",
      "Epoch 8/50\n",
      "14272/14272 [==============================] - 1s 93us/step - loss: 0.0508 - acc: 0.8246\n",
      "Epoch 9/50\n",
      "14272/14272 [==============================] - 2s 114us/step - loss: 0.0477 - acc: 0.8394\n",
      "Epoch 10/50\n",
      "14272/14272 [==============================] - 1s 102us/step - loss: 0.0449 - acc: 0.8484\n",
      "Epoch 11/50\n",
      "14272/14272 [==============================] - 1s 99us/step - loss: 0.0421 - acc: 0.8588\n",
      "Epoch 12/50\n",
      "14272/14272 [==============================] - 1s 95us/step - loss: 0.0393 - acc: 0.8698\n",
      "Epoch 13/50\n",
      "14272/14272 [==============================] - 1s 104us/step - loss: 0.0370 - acc: 0.8795\n",
      "Epoch 14/50\n",
      "14272/14272 [==============================] - 2s 120us/step - loss: 0.0349 - acc: 0.8851\n",
      "Epoch 15/50\n",
      "14272/14272 [==============================] - 2s 118us/step - loss: 0.0327 - acc: 0.8941\n",
      "Epoch 16/50\n",
      "14272/14272 [==============================] - 1s 95us/step - loss: 0.0310 - acc: 0.9007\n",
      "Epoch 17/50\n",
      "14272/14272 [==============================] - 1s 96us/step - loss: 0.0292 - acc: 0.9037\n",
      "Epoch 18/50\n",
      "14272/14272 [==============================] - 1s 90us/step - loss: 0.0279 - acc: 0.9106\n",
      "Epoch 19/50\n",
      "14272/14272 [==============================] - 1s 99us/step - loss: 0.0269 - acc: 0.9132\n",
      "Epoch 20/50\n",
      "14272/14272 [==============================] - 1s 96us/step - loss: 0.0255 - acc: 0.9191\n",
      "Epoch 21/50\n",
      "14272/14272 [==============================] - 2s 120us/step - loss: 0.0245 - acc: 0.9215\n",
      "Epoch 22/50\n",
      "14272/14272 [==============================] - 1s 100us/step - loss: 0.0239 - acc: 0.9229\n",
      "Epoch 23/50\n",
      "14272/14272 [==============================] - 1s 97us/step - loss: 0.0231 - acc: 0.9259\n",
      "Epoch 24/50\n",
      "14272/14272 [==============================] - 1s 103us/step - loss: 0.0224 - acc: 0.9294\n",
      "Epoch 25/50\n",
      "14272/14272 [==============================] - 1s 98us/step - loss: 0.0217 - acc: 0.9307\n",
      "Epoch 26/50\n",
      "14272/14272 [==============================] - 1s 99us/step - loss: 0.0213 - acc: 0.9315\n",
      "Epoch 27/50\n",
      "14272/14272 [==============================] - 1s 101us/step - loss: 0.0206 - acc: 0.9339\n",
      "Epoch 28/50\n",
      "14272/14272 [==============================] - 1s 102us/step - loss: 0.0203 - acc: 0.9344\n",
      "Epoch 29/50\n",
      "14272/14272 [==============================] - 1s 102us/step - loss: 0.0199 - acc: 0.9358\n",
      "Epoch 30/50\n",
      "14272/14272 [==============================] - 1s 102us/step - loss: 0.0196 - acc: 0.9369\n",
      "Epoch 31/50\n",
      "14272/14272 [==============================] - 2s 120us/step - loss: 0.0190 - acc: 0.9387\n",
      "Epoch 32/50\n",
      "14272/14272 [==============================] - 2s 120us/step - loss: 0.0188 - acc: 0.9400\n",
      "Epoch 33/50\n",
      "14272/14272 [==============================] - 1s 99us/step - loss: 0.0185 - acc: 0.9409\n",
      "Epoch 34/50\n",
      "14272/14272 [==============================] - 2s 105us/step - loss: 0.0184 - acc: 0.9406\n",
      "Epoch 35/50\n",
      "14272/14272 [==============================] - 2s 110us/step - loss: 0.0179 - acc: 0.9422\n",
      "Epoch 36/50\n",
      "14272/14272 [==============================] - 2s 113us/step - loss: 0.0176 - acc: 0.9435\n",
      "Epoch 37/50\n",
      "14272/14272 [==============================] - 2s 110us/step - loss: 0.0179 - acc: 0.9414\n",
      "Epoch 38/50\n",
      "14272/14272 [==============================] - 2s 129us/step - loss: 0.0174 - acc: 0.9431\n",
      "Epoch 39/50\n",
      "14272/14272 [==============================] - 2s 120us/step - loss: 0.0174 - acc: 0.9435\n",
      "Epoch 40/50\n",
      "14272/14272 [==============================] - 1s 96us/step - loss: 0.0171 - acc: 0.9452\n",
      "Epoch 41/50\n",
      "14272/14272 [==============================] - 1s 93us/step - loss: 0.0170 - acc: 0.9443\n",
      "Epoch 42/50\n",
      "14272/14272 [==============================] - 1s 97us/step - loss: 0.0170 - acc: 0.9446\n",
      "Epoch 43/50\n",
      "14272/14272 [==============================] - 1s 90us/step - loss: 0.0167 - acc: 0.9450\n",
      "Epoch 44/50\n",
      "14272/14272 [==============================] - 2s 114us/step - loss: 0.0167 - acc: 0.9461\n",
      "Epoch 45/50\n",
      "14272/14272 [==============================] - 1s 92us/step - loss: 0.0165 - acc: 0.9477\n",
      "Epoch 46/50\n",
      "14272/14272 [==============================] - 1s 103us/step - loss: 0.0164 - acc: 0.9462\n",
      "Epoch 47/50\n",
      "14272/14272 [==============================] - 1s 88us/step - loss: 0.0162 - acc: 0.9475\n",
      "Epoch 48/50\n",
      "14272/14272 [==============================] - 2s 106us/step - loss: 0.0163 - acc: 0.9475\n",
      "Epoch 49/50\n",
      "14272/14272 [==============================] - 1s 85us/step - loss: 0.0162 - acc: 0.9486\n",
      "Epoch 50/50\n",
      "14272/14272 [==============================] - 1s 99us/step - loss: 0.0159 - acc: 0.9487\n"
     ]
    },
    {
     "data": {
      "text/plain": [
       "<keras.callbacks.History at 0x1a2ad49080>"
      ]
     },
     "execution_count": 10,
     "metadata": {},
     "output_type": "execute_result"
    }
   ],
   "source": [
    "# Keras\n",
    "model = Sequential()\n",
    "model.add(Dense(64, input_dim=in_features, activation='relu'))\n",
    "model.add(Dense(16, input_dim=64, activation='relu'))\n",
    "model.add(Dense(out_features, activation='softmax'))\n",
    "model.compile(loss='mean_squared_error', optimizer='adam', metrics=['acc'])\n",
    "model.fit(np.array(X_train), np.array(y_train), epochs=50, verbose=1)"
   ]
  },
  {
   "cell_type": "code",
   "execution_count": 11,
   "metadata": {},
   "outputs": [
    {
     "name": "stdout",
     "output_type": "stream",
     "text": [
      "0.6615298402913982\n"
     ]
    }
   ],
   "source": [
    "pred = model.predict(np.array(X_test)).round()\n",
    "print(accuracy_score(np.array(y_test), pred))"
   ]
  },
  {
   "cell_type": "code",
   "execution_count": null,
   "metadata": {
    "collapsed": true
   },
   "outputs": [],
   "source": []
  }
 ],
 "metadata": {
  "kernelspec": {
   "display_name": "Python 3",
   "language": "python",
   "name": "python3"
  },
  "language_info": {
   "codemirror_mode": {
    "name": "ipython",
    "version": 3
   },
   "file_extension": ".py",
   "mimetype": "text/x-python",
   "name": "python",
   "nbconvert_exporter": "python",
   "pygments_lexer": "ipython3",
   "version": "3.6.3"
  }
 },
 "nbformat": 4,
 "nbformat_minor": 2
}
