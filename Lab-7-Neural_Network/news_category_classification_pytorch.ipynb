{
 "cells": [
  {
   "cell_type": "code",
   "execution_count": 1,
   "metadata": {
    "collapsed": true
   },
   "outputs": [],
   "source": [
    "# for generating the feature vector\n",
    "import json\n",
    "from nltk import ngrams\n",
    "import nltk\n",
    "from collections import Counter\n",
    "\n",
    "# for NN using pyTorch\n",
    "import torch\n",
    "from torch.autograd import Variable\n",
    "import torch.nn as nn\n",
    "import torch.nn.functional as F\n",
    "import torch.optim as optim\n",
    "from sklearn.model_selection import train_test_split\n",
    "from sklearn.metrics import accuracy_score"
   ]
  },
  {
   "cell_type": "code",
   "execution_count": 2,
   "metadata": {
    "collapsed": true
   },
   "outputs": [],
   "source": [
    "def extract_headline_category(category_list):\n",
    "    headline_category = []\n",
    "    try:\n",
    "        input_file = open('./News_Category_Dataset.json')\n",
    "        input_data = input_file.readlines()\n",
    "        input_file.close()\n",
    "        for json_object in input_data:\n",
    "            data = json.loads(json_object)\n",
    "            category = data['category'].upper()\n",
    "            if category in category_list:\n",
    "                headline_category.append((data['headline'], data['category']))\n",
    "        return headline_category\n",
    "    except IOError:\n",
    "        print(\"ERROR : IO ERROR occurred while opening file\")\n",
    "        exit(0)"
   ]
  },
  {
   "cell_type": "code",
   "execution_count": 3,
   "metadata": {
    "collapsed": true
   },
   "outputs": [],
   "source": [
    "category_list = ['Business', 'Comedy','Sports', 'Crime', 'Religion']\n",
    "category_list = [i.upper() for i in category_list]\n",
    "headlines_and_category = extract_headline_category(category_list)"
   ]
  },
  {
   "cell_type": "code",
   "execution_count": 4,
   "metadata": {
    "collapsed": true
   },
   "outputs": [],
   "source": [
    "def get_n_grams(dataset:'headline, category', n:'n gram value', k:'return top k n-grams'):\n",
    "    n_grams_list=[]\n",
    "    for headline, category in dataset:\n",
    "        tokenize = nltk.word_tokenize(headline)\n",
    "        n_gram = nltk.ngrams(tokenize, n)\n",
    "        n_grams_list.extend(n_gram)\n",
    "    print(len(n_grams_list))\n",
    "    top_k = Counter(n_grams_list).most_common(k)\n",
    "    most_frequent=[i[0] for i in top_k]\n",
    "    return most_frequent"
   ]
  },
  {
   "cell_type": "code",
   "execution_count": 5,
   "metadata": {},
   "outputs": [
    {
     "name": "stdout",
     "output_type": "stream",
     "text": [
      "187445\n"
     ]
    },
    {
     "name": "stderr",
     "output_type": "stream",
     "text": [
      "/Users/abhishekagrawal/anaconda3/lib/python3.6/site-packages/ipykernel_launcher.py:6: DeprecationWarning: generator 'ngrams' raised StopIteration\n",
      "  \n"
     ]
    },
    {
     "name": "stdout",
     "output_type": "stream",
     "text": [
      "169606\n",
      "151792\n"
     ]
    }
   ],
   "source": [
    "unigrams_dict = get_n_grams(headlines_and_category, 1, 500)\n",
    "bigrams_dict = get_n_grams(headlines_and_category, 2, 300)\n",
    "trigrams_dict = get_n_grams(headlines_and_category, 3, 200)"
   ]
  },
  {
   "cell_type": "code",
   "execution_count": 6,
   "metadata": {
    "collapsed": true
   },
   "outputs": [],
   "source": [
    "pos_list = list({'CD', 'CC', 'RP', 'NNPS', 'IN', ',', '$', 'FW', 'RBR', 'JJ', \"''\", ')', 'VBD', 'VBP', 'POS', ':', 'NNS', '#', 'PRP', '(', 'VBN', 'PDT', 'JJS', 'VBG', 'PRP$', 'RBS', 'LS', '.', 'EX', 'NN', '``', 'DT', 'RB', 'WDT', 'VB', 'UH', 'TO', 'JJR', 'VBZ', 'MD', 'NNP', 'WP', 'WRB'})"
   ]
  },
  {
   "cell_type": "code",
   "execution_count": 7,
   "metadata": {
    "collapsed": true
   },
   "outputs": [],
   "source": [
    "def generate_features(dataset, unigrams_dict, bigrams_dict, trigrams_dict, pos_list, category_list):\n",
    "    X = []\n",
    "    y = []\n",
    "    for headline, category in dataset:\n",
    "        text = nltk.word_tokenize(headline)\n",
    "        unigrams = nltk.ngrams(text, 1)\n",
    "        bigrams = nltk.ngrams(text, 2)\n",
    "        trigrams = nltk.ngrams(text, 3)\n",
    "#         list_of_ngrams_dict = [unigrams_dict]\n",
    "#         list_of_ngrams_sentences = [unigrams]\n",
    "        list_of_ngrams_dict = [unigrams_dict, bigrams_dict, trigrams_dict]\n",
    "        list_of_ngrams_sentences = [unigrams, bigrams, trigrams]\n",
    "        temp_sentence = []\n",
    "        for i, ngram in enumerate(list_of_ngrams_dict):\n",
    "            temp_ngram = [0]*len(ngram)\n",
    "            for word in list_of_ngrams_sentences[i]:\n",
    "                if word in ngram:\n",
    "                    temp_ngram[ngram.index(word)]+=1\n",
    "            temp_sentence.extend(temp_ngram)\n",
    "        \n",
    "    \n",
    "#         temp_pos = [0]*len(pos_list)\n",
    "#         for word, tag in nltk.pos_tag(text):\n",
    "#             temp_pos[pos_list.index(tag)]+=1\n",
    "#         temp_sentence.extend(temp_pos)\n",
    "        X.append(temp_sentence)\n",
    "        y.append(category_list.index(category))\n",
    "    return (X,y)"
   ]
  },
  {
   "cell_type": "code",
   "execution_count": 8,
   "metadata": {},
   "outputs": [
    {
     "name": "stderr",
     "output_type": "stream",
     "text": [
      "/Users/abhishekagrawal/anaconda3/lib/python3.6/site-packages/ipykernel_launcher.py:16: DeprecationWarning: generator 'ngrams' raised StopIteration\n",
      "  app.launch_new_instance()\n"
     ]
    }
   ],
   "source": [
    "X, y = generate_features(headlines_and_category, unigrams_dict, bigrams_dict, trigrams_dict, pos_list, category_list)"
   ]
  },
  {
   "cell_type": "code",
   "execution_count": 9,
   "metadata": {},
   "outputs": [],
   "source": [
    "y_temp = []\n",
    "for i in y:\n",
    "    temp = [0, 0, 0, 0, 0]\n",
    "    temp[i] = 1\n",
    "    y_temp.append(temp)\n",
    "y = y_temp\n",
    "\n",
    "X_train, X_test, y_train, y_test = train_test_split(X, y, test_size=0.20)\n",
    "\n",
    "inputs = list(map(lambda s: Variable(torch.Tensor([s])), X_train))\n",
    "targets = list(map(lambda s: Variable(torch.Tensor([s])), y_train))\n",
    "in_features = len(X_train[0])\n",
    "out_features = len(category_list)"
   ]
  },
  {
   "cell_type": "code",
   "execution_count": null,
   "metadata": {
    "collapsed": true
   },
   "outputs": [],
   "source": [
    "class Net(nn.Module):\n",
    "    def __init__(self):\n",
    "        super(Net, self).__init__()\n",
    "        self.main = nn.Sequential(\n",
    "            nn.Linear(in_features, 64),\n",
    "            nn.Sigmoid(),\n",
    "            nn.Linear(64, out_features),\n",
    "        )\n",
    "\n",
    "    def forward(self, input):\n",
    "        return self.main(input)"
   ]
  },
  {
   "cell_type": "code",
   "execution_count": null,
   "metadata": {},
   "outputs": [
    {
     "name": "stdout",
     "output_type": "stream",
     "text": [
      "Training loop:\n",
      "Epoch        0 Loss: 0.20865678787231445\n",
      "Epoch        1 Loss: 0.19925135374069214\n",
      "Epoch        2 Loss: 0.20160391926765442\n",
      "Epoch        3 Loss: 0.2047022134065628\n",
      "Epoch        4 Loss: 0.20484842360019684\n",
      "Epoch        5 Loss: 0.203580841422081\n",
      "Epoch        6 Loss: 0.20252321660518646\n",
      "Epoch        7 Loss: 0.20192097127437592\n",
      "Epoch        8 Loss: 0.20166201889514923\n",
      "Epoch        9 Loss: 0.2016243189573288\n",
      "Epoch       10 Loss: 0.20171670615673065\n",
      "Epoch       11 Loss: 0.20187704265117645\n",
      "Epoch       12 Loss: 0.20206648111343384\n",
      "Epoch       13 Loss: 0.20226314663887024\n",
      "Epoch       14 Loss: 0.2024555504322052\n",
      "Epoch       15 Loss: 0.20263853669166565\n",
      "Epoch       16 Loss: 0.20281003415584564\n",
      "Epoch       17 Loss: 0.20296931266784668\n",
      "Epoch       18 Loss: 0.2031165212392807\n",
      "Epoch       19 Loss: 0.20325231552124023\n",
      "Epoch       20 Loss: 0.20337705314159393\n"
     ]
    }
   ],
   "source": [
    "net = Net()\n",
    "criterion = nn.MSELoss()\n",
    "optimizer = optim.SGD(net.parameters(), lr=0.01)\n",
    "\n",
    "EPOCHS_TO_TRAIN = 50\n",
    "best_model = net\n",
    "best_loss = 1\n",
    "print(\"Training loop:\")\n",
    "for idx in range(0, EPOCHS_TO_TRAIN):\n",
    "    for input, target in zip(inputs, targets):\n",
    "        optimizer.zero_grad()   # zero the gradient buffers\n",
    "        output = net(input)\n",
    "        loss = criterion(output, target)\n",
    "        loss.backward()\n",
    "        optimizer.step()    # Does the update\n",
    "    if loss.data.numpy() < best_loss:\n",
    "        best_model = net\n",
    "    print(\"Epoch {: >8} Loss: {}\".format(idx, loss.data.numpy()))"
   ]
  },
  {
   "cell_type": "code",
   "execution_count": null,
   "metadata": {
    "collapsed": true
   },
   "outputs": [],
   "source": [
    "inputs = list(map(lambda s: Variable(torch.Tensor([s])), X_test))\n",
    "targets = list(map(lambda s: Variable(torch.Tensor([s])), y_test))"
   ]
  },
  {
   "cell_type": "code",
   "execution_count": null,
   "metadata": {},
   "outputs": [],
   "source": [
    "print(\"\")\n",
    "print(\"Final results:\")\n",
    "total_accurate = 0\n",
    "for inp, target in zip(inputs, targets):\n",
    "    output = best_model(inp)\n",
    "    temp = target[0].detach().numpy().tolist()\n",
    "    temp_2 = output[0].detach().numpy().tolist()\n",
    "    if temp_2.index(max(temp_2)) == temp.index(max(temp)):\n",
    "        total_accurate += 1\n",
    "print(total_accurate / len(inputs))"
   ]
  },
  {
   "cell_type": "code",
   "execution_count": null,
   "metadata": {
    "collapsed": true
   },
   "outputs": [],
   "source": []
  }
 ],
 "metadata": {
  "kernelspec": {
   "display_name": "Python 3",
   "language": "python",
   "name": "python3"
  },
  "language_info": {
   "codemirror_mode": {
    "name": "ipython",
    "version": 3
   },
   "file_extension": ".py",
   "mimetype": "text/x-python",
   "name": "python",
   "nbconvert_exporter": "python",
   "pygments_lexer": "ipython3",
   "version": "3.6.3"
  }
 },
 "nbformat": 4,
 "nbformat_minor": 2
}
