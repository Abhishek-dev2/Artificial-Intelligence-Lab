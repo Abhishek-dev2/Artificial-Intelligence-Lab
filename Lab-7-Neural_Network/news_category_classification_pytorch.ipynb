{
 "cells": [
  {
   "cell_type": "code",
   "execution_count": 1,
   "metadata": {},
   "outputs": [],
   "source": [
    "# for generating the feature vector\n",
    "import json\n",
    "from nltk import ngrams\n",
    "import nltk\n",
    "from collections import Counter\n",
    "\n",
    "# for NN using pyTorch\n",
    "import torch\n",
    "from torch.autograd import Variable\n",
    "import torch.nn as nn\n",
    "import torch.nn.functional as F\n",
    "import torch.optim as optim\n",
    "from sklearn.model_selection import train_test_split\n",
    "from sklearn.metrics import accuracy_score"
   ]
  },
  {
   "cell_type": "code",
   "execution_count": 2,
   "metadata": {},
   "outputs": [],
   "source": [
    "def extract_headline_category(category_list):\n",
    "    headline_category = []\n",
    "    try:\n",
    "        input_file = open('./News_Category_Dataset.json')\n",
    "        input_data = input_file.readlines()\n",
    "        input_file.close()\n",
    "        for json_object in input_data:\n",
    "            data = json.loads(json_object)\n",
    "            category = data['category'].upper()\n",
    "            if category in category_list:\n",
    "                headline_category.append((data['headline'], data['category']))\n",
    "        return headline_category\n",
    "    except IOError:\n",
    "        print(\"ERROR : IO ERROR occurred while opening file\")\n",
    "        exit(0)"
   ]
  },
  {
   "cell_type": "code",
   "execution_count": 3,
   "metadata": {},
   "outputs": [],
   "source": [
    "category_list = ['Business', 'Comedy','Sports', 'Crime', 'Religion']\n",
    "category_list = [i.upper() for i in category_list]\n",
    "headlines_and_category = extract_headline_category(category_list)"
   ]
  },
  {
   "cell_type": "code",
   "execution_count": 4,
   "metadata": {},
   "outputs": [],
   "source": [
    "def get_n_grams(dataset:'headline, category', n:'n gram value', k:'return top k n-grams'):\n",
    "    n_grams_list=[]\n",
    "    for headline, category in dataset:\n",
    "        tokenize = nltk.word_tokenize(headline)\n",
    "        n_gram = nltk.ngrams(tokenize, n)\n",
    "        n_grams_list.extend(n_gram)\n",
    "    print(len(n_grams_list))\n",
    "    top_k = Counter(n_grams_list).most_common(k)\n",
    "    most_frequent=[i[0] for i in top_k]\n",
    "    return most_frequent"
   ]
  },
  {
   "cell_type": "code",
   "execution_count": 5,
   "metadata": {},
   "outputs": [
    {
     "name": "stdout",
     "output_type": "stream",
     "text": [
      "187445\n"
     ]
    },
    {
     "name": "stderr",
     "output_type": "stream",
     "text": [
      "C:\\Users\\ragha\\Miniconda3\\envs\\for_ml\\lib\\site-packages\\ipykernel\\__main__.py:6: DeprecationWarning: generator 'ngrams' raised StopIteration\n"
     ]
    },
    {
     "name": "stdout",
     "output_type": "stream",
     "text": [
      "169606\n",
      "151792\n"
     ]
    }
   ],
   "source": [
    "unigrams_dict = get_n_grams(headlines_and_category, 1, 500)\n",
    "bigrams_dict = get_n_grams(headlines_and_category, 2, 300)\n",
    "trigrams_dict = get_n_grams(headlines_and_category, 3, 200)"
   ]
  },
  {
   "cell_type": "code",
   "execution_count": 6,
   "metadata": {},
   "outputs": [],
   "source": [
    "pos_list = list({'CD', 'CC', 'RP', 'NNPS', 'IN', ',', '$', 'FW', 'RBR', 'JJ', \"''\", ')', 'VBD', 'VBP', 'POS', ':', 'NNS', '#', 'PRP', '(', 'VBN', 'PDT', 'JJS', 'VBG', 'PRP$', 'RBS', 'LS', '.', 'EX', 'NN', '``', 'DT', 'RB', 'WDT', 'VB', 'UH', 'TO', 'JJR', 'VBZ', 'MD', 'NNP', 'WP', 'WRB'})"
   ]
  },
  {
   "cell_type": "code",
   "execution_count": 7,
   "metadata": {},
   "outputs": [],
   "source": [
    "def generate_features(dataset, unigrams_dict, bigrams_dict, trigrams_dict, pos_list, category_list):\n",
    "    X = []\n",
    "    y = []\n",
    "    for headline, category in dataset:\n",
    "        text = nltk.word_tokenize(headline)\n",
    "        unigrams = nltk.ngrams(text, 1)\n",
    "        bigrams = nltk.ngrams(text, 2)\n",
    "        trigrams = nltk.ngrams(text, 3)\n",
    "#         list_of_ngrams_dict = [unigrams_dict]\n",
    "#         list_of_ngrams_sentences = [unigrams]\n",
    "        list_of_ngrams_dict = [unigrams_dict, bigrams_dict, trigrams_dict]\n",
    "        list_of_ngrams_sentences = [unigrams, bigrams, trigrams]\n",
    "        temp_sentence = []\n",
    "        for i, ngram in enumerate(list_of_ngrams_dict):\n",
    "            temp_ngram = [0]*len(ngram)\n",
    "            for word in list_of_ngrams_sentences[i]:\n",
    "                if word in ngram:\n",
    "                    temp_ngram[ngram.index(word)]+=1\n",
    "            temp_sentence.extend(temp_ngram)\n",
    "        \n",
    "    \n",
    "#         temp_pos = [0]*len(pos_list)\n",
    "#         for word, tag in nltk.pos_tag(text):\n",
    "#             temp_pos[pos_list.index(tag)]+=1\n",
    "#         temp_sentence.extend(temp_pos)\n",
    "        X.append(temp_sentence)\n",
    "        y.append(category_list.index(category))\n",
    "    return (X,y)"
   ]
  },
  {
   "cell_type": "code",
   "execution_count": 8,
   "metadata": {},
   "outputs": [
    {
     "name": "stderr",
     "output_type": "stream",
     "text": [
      "C:\\Users\\ragha\\Miniconda3\\envs\\for_ml\\lib\\site-packages\\ipykernel\\__main__.py:16: DeprecationWarning: generator 'ngrams' raised StopIteration\n"
     ]
    }
   ],
   "source": [
    "X, y = generate_features(headlines_and_category, unigrams_dict, bigrams_dict, trigrams_dict, pos_list, category_list)"
   ]
  },
  {
   "cell_type": "code",
   "execution_count": 9,
   "metadata": {},
   "outputs": [],
   "source": [
    "y_temp = []\n",
    "for i in y:\n",
    "    temp = [0, 0, 0, 0, 0]\n",
    "    temp[i] = 1\n",
    "    y_temp.append(temp)\n",
    "y = y_temp\n",
    "\n",
    "X_train, X_test, y_train, y_test = train_test_split(X, y, test_size=0.20)\n",
    "\n",
    "inputs = list(map(lambda s: Variable(torch.Tensor([s])), X_train))\n",
    "targets = list(map(lambda s: Variable(torch.Tensor([s])), y_train))\n",
    "in_features = len(X_train[0])\n",
    "out_features = len(category_list)"
   ]
  },
  {
   "cell_type": "code",
   "execution_count": 10,
   "metadata": {},
   "outputs": [],
   "source": [
    "class Net(nn.Module):\n",
    "    def __init__(self):\n",
    "        super(Net, self).__init__()\n",
    "        self.main = nn.Sequential(\n",
    "            nn.Linear(in_features, 64),\n",
    "            nn.Sigmoid(),\n",
    "            nn.Linear(64, out_features),\n",
    "        )\n",
    "\n",
    "    def forward(self, input):\n",
    "        return self.main(input)"
   ]
  },
  {
   "cell_type": "code",
   "execution_count": 11,
   "metadata": {
    "scrolled": true
   },
   "outputs": [
    {
     "name": "stdout",
     "output_type": "stream",
     "text": [
      "Training loop:\n",
      "Epoch        0 Loss: 0.18248659372329712\n",
      "Epoch        1 Loss: 0.191620334982872\n",
      "Epoch        2 Loss: 0.19245700538158417\n",
      "Epoch        3 Loss: 0.1787334680557251\n",
      "Epoch        4 Loss: 0.15703199803829193\n",
      "Epoch        5 Loss: 0.13386061787605286\n",
      "Epoch        6 Loss: 0.11300627887248993\n",
      "Epoch        7 Loss: 0.09596505761146545\n",
      "Epoch        8 Loss: 0.08265608549118042\n",
      "Epoch        9 Loss: 0.07235165685415268\n",
      "Epoch       10 Loss: 0.06426673382520676\n",
      "Epoch       11 Loss: 0.057776566594839096\n",
      "Epoch       12 Loss: 0.052440106868743896\n",
      "Epoch       13 Loss: 0.04795856773853302\n",
      "Epoch       14 Loss: 0.044129833579063416\n",
      "Epoch       15 Loss: 0.04081406071782112\n",
      "Epoch       16 Loss: 0.03791188821196556\n",
      "Epoch       17 Loss: 0.035350583493709564\n",
      "Epoch       18 Loss: 0.033075083047151566\n",
      "Epoch       19 Loss: 0.031043149530887604\n",
      "Epoch       20 Loss: 0.029221152886748314\n",
      "Epoch       21 Loss: 0.027582207694649696\n",
      "Epoch       22 Loss: 0.026104064658284187\n",
      "Epoch       23 Loss: 0.024768244475126266\n",
      "Epoch       24 Loss: 0.023558959364891052\n",
      "Epoch       25 Loss: 0.022462595254182816\n",
      "Epoch       26 Loss: 0.021467523649334908\n",
      "Epoch       27 Loss: 0.02056330069899559\n",
      "Epoch       28 Loss: 0.019740907475352287\n",
      "Epoch       29 Loss: 0.0189922284334898\n",
      "Epoch       30 Loss: 0.01831009052693844\n",
      "Epoch       31 Loss: 0.01768805831670761\n",
      "Epoch       32 Loss: 0.01712051033973694\n",
      "Epoch       33 Loss: 0.016602246090769768\n",
      "Epoch       34 Loss: 0.016128726303577423\n",
      "Epoch       35 Loss: 0.0156957246363163\n",
      "Epoch       36 Loss: 0.015299571678042412\n",
      "Epoch       37 Loss: 0.014936929568648338\n",
      "Epoch       38 Loss: 0.014604640193283558\n",
      "Epoch       39 Loss: 0.014300072565674782\n",
      "Epoch       40 Loss: 0.01402070838958025\n",
      "Epoch       41 Loss: 0.013764268718659878\n",
      "Epoch       42 Loss: 0.013528700917959213\n",
      "Epoch       43 Loss: 0.013312230817973614\n",
      "Epoch       44 Loss: 0.013113214634358883\n",
      "Epoch       45 Loss: 0.012929984368383884\n",
      "Epoch       46 Loss: 0.012761223129928112\n",
      "Epoch       47 Loss: 0.012605740688741207\n",
      "Epoch       48 Loss: 0.012462321668863297\n",
      "Epoch       49 Loss: 0.01232998538762331\n"
     ]
    }
   ],
   "source": [
    "net = Net()\n",
    "criterion = nn.MSELoss()\n",
    "optimizer = optim.SGD(net.parameters(), lr=0.01)\n",
    "\n",
    "EPOCHS_TO_TRAIN = 50\n",
    "best_model = net\n",
    "best_loss = 1\n",
    "print(\"Training loop:\")\n",
    "for idx in range(0, EPOCHS_TO_TRAIN):\n",
    "    for input, target in zip(inputs, targets):\n",
    "        optimizer.zero_grad()   # zero the gradient buffers\n",
    "        output = net(input)\n",
    "        loss = criterion(output, target)\n",
    "        loss.backward()\n",
    "        optimizer.step()    # Does the update\n",
    "    if loss.data.numpy() < best_loss:\n",
    "        best_model = net\n",
    "    print(\"Epoch {: >8} Loss: {}\".format(idx, loss.data.numpy()))"
   ]
  },
  {
   "cell_type": "code",
   "execution_count": 12,
   "metadata": {},
   "outputs": [],
   "source": [
    "inputs = list(map(lambda s: Variable(torch.Tensor([s])), X_test))\n",
    "targets = list(map(lambda s: Variable(torch.Tensor([s])), y_test))"
   ]
  },
  {
   "cell_type": "code",
   "execution_count": 13,
   "metadata": {},
   "outputs": [
    {
     "name": "stdout",
     "output_type": "stream",
     "text": [
      "\n",
      "Final results:\n",
      "0.6861866068926871\n"
     ]
    }
   ],
   "source": [
    "print(\"\")\n",
    "print(\"Final results:\")\n",
    "total_accurate = 0\n",
    "for inp, target in zip(inputs, targets):\n",
    "    output = best_model(inp)\n",
    "    temp = target[0].detach().numpy().tolist()\n",
    "    temp_2 = output[0].detach().numpy().tolist()\n",
    "    if temp_2.index(max(temp_2)) == temp.index(max(temp)):\n",
    "        total_accurate += 1\n",
    "print(total_accurate / len(inputs))"
   ]
  },
  {
   "cell_type": "code",
   "execution_count": null,
   "metadata": {
    "collapsed": true
   },
   "outputs": [],
   "source": []
  }
 ],
 "metadata": {
  "kernelspec": {
   "display_name": "Python [default]",
   "language": "python",
   "name": "python3"
  },
  "language_info": {
   "codemirror_mode": {
    "name": "ipython",
    "version": 3
   },
   "file_extension": ".py",
   "mimetype": "text/x-python",
   "name": "python",
   "nbconvert_exporter": "python",
   "pygments_lexer": "ipython3",
   "version": "3.6.6"
  }
 },
 "nbformat": 4,
 "nbformat_minor": 2
}
